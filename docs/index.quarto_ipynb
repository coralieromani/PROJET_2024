{
  "cells": [
    {
      "cell_type": "markdown",
      "metadata": {},
      "source": [
        "---\n",
        "title: \"CIRCULATION DES VÉLOS À MONTPELLIER\"\n",
        "format:\n",
        "  html:\n",
        "    toc: true  # Affiche une table des matières\n",
        "    code-fold: true  # Permet de replier/déplier les blocs de code\n",
        "    css: styles.css  # Fichier CSS personnalisé pour styliser le site\n",
        "    theme: flatly  # Choix d'un thème pré-conçu pour une apparence moderne\n",
        "---\n",
        "\n",
        "\n",
        "![ ](https://static.actu.fr/uploads/2020/09/montpellier-velo-piste-cyclable-960x640.jpg)\n",
        "\n",
        "## Introduction\n",
        "\n",
        "À Montpellier, les options de transport sont variées, mais le vélo se distingue comme l'une des solutions les plus écologiques et pratiques. Cette popularité s'explique en grande partie par les nombreuses infrastructures mises à disposition, notamment un réseau étendu de pistes cyclables et le système Vélomagg, qui propose des vélos en libre-service à divers points stratégiques de la ville. Dans ce contexte, notre projet vise à visualiser l'évolution du trafic cycliste sur une année complète et à prédire le flux pour le lendemain. L'objectif est de fournir aux cyclistes des informations pertinentes sur les itinéraires recommandés, en tenant compte des conditions de circulation, de la météo et du calendrier (jours fériés, week-ends, etc.).\n",
        "\n",
        "---\n",
        "\n",
        "## Visualisation du trafic cycliste au tour de la FDS\n",
        "\n",
        "![Carte centré FDS](https://github.com/coralieromani/PROJET_2024/blob/site_web/docs/Images/CarteMTPcentreFDS.png?raw=true){ width=70% }\n",
        "\n",
        "La carte présente les trajets cyclables autour de la Faculté des Sciences de Montpellier, avec des temps de parcours estimés selon un code couleur. Le centre de la carte est marqué par l'emplacement de la faculté. Les cercles concentriques indiquent des distances cyclables mesurées : en rouge pour les trajets de moins de 5 minutes, en violet pour les trajets de 5 à 10 minutes, et en orange pour ceux de plus de 15 minutes. Les lignes vertes montrent les pistes cyclables disponibles, facilitant ainsi les déplacements à vélo dans Montpellier.\n",
        "\n",
        "---\n",
        "\n",
        "## Carte interactive  "
      ],
      "id": "b395796b"
    },
    {
      "cell_type": "code",
      "metadata": {},
      "source": [
        "import folium\n",
        "\n",
        "# Créer une carte centrée sur Montpellier\n",
        "m = folium.Map(location=[43.6119, 3.8767], zoom_start=13)\n",
        "\n",
        "# Sauvegarder la carte en tant que fichier HTML (temporaire)\n",
        "m.save(\"carte_montpellier.html\")"
      ],
      "id": "446e0c02",
      "execution_count": null,
      "outputs": []
    },
    {
      "cell_type": "markdown",
      "metadata": {},
      "source": [
        "---\n",
        "\n",
        "## VIDEO/IMAGES des flux \n"
      ],
      "id": "48d495b8"
    }
  ],
  "metadata": {
    "kernelspec": {
      "name": "python3",
      "language": "python",
      "display_name": "Python 3 (ipykernel)",
      "path": "/Users/samymrad/Library/Python/3.9/share/jupyter/kernels/python3"
    }
  },
  "nbformat": 4,
  "nbformat_minor": 5
}